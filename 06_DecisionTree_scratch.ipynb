{
  "nbformat": 4,
  "nbformat_minor": 0,
  "metadata": {
    "colab": {
      "provenance": [],
      "authorship_tag": "ABX9TyMf3/chIege2GK91VqP14Hx",
      "include_colab_link": true
    },
    "kernelspec": {
      "name": "python3",
      "display_name": "Python 3"
    },
    "language_info": {
      "name": "python"
    }
  },
  "cells": [
    {
      "cell_type": "markdown",
      "metadata": {
        "id": "view-in-github",
        "colab_type": "text"
      },
      "source": [
        "<a href=\"https://colab.research.google.com/github/hamagami/is2024/blob/main/06_DecisionTree_scratch.ipynb\" target=\"_parent\"><img src=\"https://colab.research.google.com/assets/colab-badge.svg\" alt=\"Open In Colab\"/></a>"
      ]
    },
    {
      "cell_type": "markdown",
      "source": [
        "# 06 Decision Tree classification by scratch"
      ],
      "metadata": {
        "id": "SP_TzAnbyTfa"
      }
    },
    {
      "cell_type": "code",
      "source": [
        "import numpy as np\n",
        "import pandas as pd\n",
        "from collections import Counter"
      ],
      "metadata": {
        "id": "tneu4Yh5ySTp"
      },
      "execution_count": null,
      "outputs": []
    },
    {
      "cell_type": "markdown",
      "source": [
        "## Decision tree scratch function, class"
      ],
      "metadata": {
        "id": "QqpdKGTmygLu"
      }
    },
    {
      "cell_type": "code",
      "source": [
        "# Function to calculate entropy\n",
        "def entropy(y):\n",
        "    counts = Counter(y)\n",
        "    probabilities = [count / len(y) for count in counts.values()]\n",
        "    return -sum(p * np.log2(p) for p in probabilities if p > 0)\n",
        "\n",
        "# Function to calculate information gain\n",
        "def information_gain(y, y_left, y_right):\n",
        "    p = len(y_left) / len(y)\n",
        "    return entropy(y) - p * entropy(y_left) - (1 - p) * entropy(y_right)\n",
        "\n",
        "# Custom Decision Tree class with entropy-based splits\n",
        "class DecisionTreeScratch:\n",
        "    def __init__(self, max_depth=3):\n",
        "        self.max_depth = max_depth\n",
        "        self.tree = None\n",
        "\n",
        "    class Node:\n",
        "        def __init__(self, feature=None, threshold=None, left=None, right=None, *, value=None):\n",
        "            self.feature = feature\n",
        "            self.threshold = threshold\n",
        "            self.left = left\n",
        "            self.right = right\n",
        "            self.value = value\n",
        "\n",
        "        def is_leaf_node(self):\n",
        "            return self.value is not None\n",
        "\n",
        "    def fit(self, X, y):\n",
        "        self.tree = self._build_tree(X, y)\n",
        "\n",
        "    def _best_split(self, X, y):\n",
        "        best_gain = -1\n",
        "        best_feature, best_threshold = None, None\n",
        "        n_features = X.shape[1]\n",
        "\n",
        "        for feature in range(n_features):\n",
        "            thresholds = np.unique(X[:, feature])\n",
        "            for threshold in thresholds:\n",
        "                left_mask = X[:, feature] <= threshold\n",
        "                right_mask = X[:, feature] > threshold\n",
        "                y_left, y_right = y[left_mask], y[right_mask]\n",
        "\n",
        "                if len(y_left) == 0 or len(y_right) == 0:\n",
        "                    continue\n",
        "\n",
        "                gain = information_gain(y, y_left, y_right)\n",
        "                if gain > best_gain:\n",
        "                    best_gain = gain\n",
        "                    best_feature, best_threshold = feature, threshold\n",
        "\n",
        "        return best_feature, best_threshold\n",
        "\n",
        "    def _build_tree(self, X, y, depth=0):\n",
        "        num_samples_per_class = Counter(y)\n",
        "        predicted_class = max(num_samples_per_class, key=num_samples_per_class.get)\n",
        "        node = self.Node(value=predicted_class)\n",
        "\n",
        "        # Stop if max depth is reached or no further split is possible\n",
        "        if depth < self.max_depth:\n",
        "            feature, threshold = self._best_split(X, y)\n",
        "            if feature is not None:\n",
        "                left_mask = X[:, feature] <= threshold\n",
        "                right_mask = X[:, feature] > threshold\n",
        "                left = self._build_tree(X[left_mask], y[left_mask], depth + 1)\n",
        "                right = self._build_tree(X[right_mask], y[right_mask], depth + 1)\n",
        "                return self.Node(feature, threshold, left, right)\n",
        "        return node\n",
        "\n",
        "    def predict(self, X):\n",
        "        return [self._predict_single(self.tree, x) for x in X]\n",
        "\n",
        "    def _predict_single(self, node, x):\n",
        "        if node.is_leaf_node():\n",
        "            return node.value\n",
        "        if x[node.feature] <= node.threshold:\n",
        "            return self._predict_single(node.left, x)\n",
        "        else:\n",
        "            return self._predict_single(node.right, x)"
      ],
      "metadata": {
        "id": "OC7bvaY_yTUF"
      },
      "execution_count": null,
      "outputs": []
    },
    {
      "cell_type": "markdown",
      "source": [
        "### Go-out data"
      ],
      "metadata": {
        "id": "BrOnCPXxyoR3"
      }
    },
    {
      "cell_type": "code",
      "source": [
        "# Example usage with dataset\n",
        "data = {\n",
        "    'Weather': ['Sunny', 'Sunny', 'Rainy', 'Rainy', 'Cloudy', 'Cloudy', 'Sunny', 'Rainy', 'Cloudy', 'Sunny'],\n",
        "    'Wind': ['Strong', 'Weak', 'Strong', 'Weak', 'Weak', 'Strong', 'Weak', 'Strong', 'Weak', 'Strong'],\n",
        "    'Humidity': ['High', 'High', 'High', 'Low', 'Low', 'High', 'Low', 'Low', 'High', 'Low'],\n",
        "    'Go_Out': ['No', 'Yes', 'No', 'No', 'Yes', 'No', 'Yes', 'No', 'Yes', 'Yes']\n",
        "}\n",
        "\n",
        "df = pd.DataFrame(data)\n",
        "\n",
        "# Convert categorical data to numerical\n",
        "df['Weather'] = df['Weather'].map({'Sunny': 0, 'Rainy': 1, 'Cloudy': 2})\n",
        "df['Wind'] = df['Wind'].map({'Weak': 0, 'Strong': 1})\n",
        "df['Humidity'] = df['Humidity'].map({'Low': 0, 'High': 1})\n",
        "df['Go_Out'] = df['Go_Out'].map({'No': 0, 'Yes': 1})\n",
        "\n",
        "X = df[['Weather', 'Wind', 'Humidity']].values\n",
        "y = df['Go_Out'].values"
      ],
      "metadata": {
        "id": "2xMrgUgUysfv"
      },
      "execution_count": null,
      "outputs": []
    },
    {
      "cell_type": "markdown",
      "source": [
        "## classsification"
      ],
      "metadata": {
        "id": "5skhd76py3vm"
      }
    },
    {
      "cell_type": "code",
      "execution_count": 4,
      "metadata": {
        "colab": {
          "base_uri": "https://localhost:8080/"
        },
        "id": "jqSRpXiLx8B5",
        "outputId": "97619bb5-8ed3-4545-9926-71a7028d38df"
      },
      "outputs": [
        {
          "output_type": "stream",
          "name": "stdout",
          "text": [
            "[0, 1, 0, 0, 1, 0, 1, 0, 1, 1]\n"
          ]
        }
      ],
      "source": [
        "# Fitting the custom Decision Tree\n",
        "tree_scratch = DecisionTreeScratch(max_depth=3)\n",
        "tree_scratch.fit(X, y)\n",
        "\n",
        "# Predicting on the dataset\n",
        "predictions = tree_scratch.predict(X)\n",
        "print(predictions)\n"
      ]
    },
    {
      "cell_type": "markdown",
      "source": [
        "# visualization"
      ],
      "metadata": {
        "id": "ng_jh6WJy6v6"
      }
    },
    {
      "cell_type": "code",
      "source": [
        "# Helper function to visualize the tree structure created from scratch\n",
        "import graphviz\n",
        "\n",
        "def visualize_tree(node, feature_names, class_names):\n",
        "    def add_nodes_edges(dot, node, parent=None, edge_label=\"\"):\n",
        "        if node is None:\n",
        "            return\n",
        "\n",
        "        node_id = str(id(node))\n",
        "        if node.is_leaf_node():\n",
        "            label = f\"Class: {class_names[node.value]}\"\n",
        "            dot.node(node_id, label, shape=\"ellipse\", style=\"filled\", color=\"lightgrey\")\n",
        "        else:\n",
        "            label = f\"{feature_names[node.feature]} <= {node.threshold}\"\n",
        "            dot.node(node_id, label, shape=\"box\", style=\"rounded, filled\", color=\"lightblue\")\n",
        "\n",
        "        if parent is not None:\n",
        "            dot.edge(str(id(parent)), node_id, label=edge_label)\n",
        "\n",
        "        if node.left:\n",
        "            add_nodes_edges(dot, node.left, node, \"True\")\n",
        "        if node.right:\n",
        "            add_nodes_edges(dot, node.right, node, \"False\")\n",
        "\n",
        "    dot = graphviz.Digraph()\n",
        "    add_nodes_edges(dot, node)\n",
        "    return dot\n",
        "\n",
        "# Feature and class names\n",
        "feature_names = ['Weather', 'Wind', 'Humidity']\n",
        "class_names = ['No', 'Yes']\n",
        "\n",
        "# Visualize the custom-built decision tree\n",
        "tree_visualization = visualize_tree(tree_scratch.tree, feature_names, class_names)\n",
        "\n",
        "# Displaying the visualization directly as SVG\n",
        "from IPython.display import SVG, display\n",
        "\n",
        "tree_visualization.format = \"svg\"\n",
        "svg_path = tree_visualization.render(filename=\"/mnt/data/custom_decision_tree\", format=\"svg\")\n",
        "display(SVG(svg_path))\n"
      ],
      "metadata": {
        "colab": {
          "base_uri": "https://localhost:8080/",
          "height": 428
        },
        "id": "KKsAMtjdx-pk",
        "outputId": "b59e33dd-1c24-428e-d355-65636ff0ea12"
      },
      "execution_count": 3,
      "outputs": [
        {
          "output_type": "display_data",
          "data": {
            "text/plain": [
              "<IPython.core.display.SVG object>"
            ],
            "image/svg+xml": "<svg xmlns=\"http://www.w3.org/2000/svg\" xmlns:xlink=\"http://www.w3.org/1999/xlink\" width=\"878pt\" height=\"305pt\" viewBox=\"0.00 0.00 877.94 305.00\">\n<g id=\"graph0\" class=\"graph\" transform=\"scale(1 1) rotate(0) translate(4 301)\">\n<title>%3</title>\n<polygon fill=\"white\" stroke=\"transparent\" points=\"-4,4 -4,-301 873.94,-301 873.94,4 -4,4\"/>\n<!-- 140581492048944 -->\n<g id=\"node1\" class=\"node\">\n<title>140581492048944</title>\n<path fill=\"lightblue\" stroke=\"lightblue\" d=\"M442.95,-297C442.95,-297 389.95,-297 389.95,-297 383.95,-297 377.95,-291 377.95,-285 377.95,-285 377.95,-273 377.95,-273 377.95,-267 383.95,-261 389.95,-261 389.95,-261 442.95,-261 442.95,-261 448.95,-261 454.95,-267 454.95,-273 454.95,-273 454.95,-285 454.95,-285 454.95,-291 448.95,-297 442.95,-297\"/>\n<text text-anchor=\"middle\" x=\"416.45\" y=\"-275.3\" font-family=\"Times,serif\" font-size=\"14.00\">Wind &lt;= 0</text>\n</g>\n<!-- 140581492048992 -->\n<g id=\"node2\" class=\"node\">\n<title>140581492048992</title>\n<path fill=\"lightblue\" stroke=\"lightblue\" d=\"M394.45,-210C394.45,-210 326.45,-210 326.45,-210 320.45,-210 314.45,-204 314.45,-198 314.45,-198 314.45,-186 314.45,-186 314.45,-180 320.45,-174 326.45,-174 326.45,-174 394.45,-174 394.45,-174 400.45,-174 406.45,-180 406.45,-186 406.45,-186 406.45,-198 406.45,-198 406.45,-204 400.45,-210 394.45,-210\"/>\n<text text-anchor=\"middle\" x=\"360.45\" y=\"-188.3\" font-family=\"Times,serif\" font-size=\"14.00\">Weather &lt;= 0</text>\n</g>\n<!-- 140581492048944&#45;&gt;140581492048992 -->\n<g id=\"edge1\" class=\"edge\">\n<title>140581492048944-&gt;140581492048992</title>\n<path fill=\"none\" stroke=\"black\" d=\"M405.11,-260.8C397.14,-248.7 386.34,-232.3 377.36,-218.67\"/>\n<polygon fill=\"black\" stroke=\"black\" points=\"380.19,-216.6 371.76,-210.18 374.34,-220.45 380.19,-216.6\"/>\n<text text-anchor=\"middle\" x=\"405.45\" y=\"-231.8\" font-family=\"Times,serif\" font-size=\"14.00\">True</text>\n</g>\n<!-- 140581492049760 -->\n<g id=\"node9\" class=\"node\">\n<title>140581492049760</title>\n<path fill=\"lightblue\" stroke=\"lightblue\" d=\"M551.45,-210C551.45,-210 483.45,-210 483.45,-210 477.45,-210 471.45,-204 471.45,-198 471.45,-198 471.45,-186 471.45,-186 471.45,-180 477.45,-174 483.45,-174 483.45,-174 551.45,-174 551.45,-174 557.45,-174 563.45,-180 563.45,-186 563.45,-186 563.45,-198 563.45,-198 563.45,-204 557.45,-210 551.45,-210\"/>\n<text text-anchor=\"middle\" x=\"517.45\" y=\"-188.3\" font-family=\"Times,serif\" font-size=\"14.00\">Weather &lt;= 0</text>\n</g>\n<!-- 140581492048944&#45;&gt;140581492049760 -->\n<g id=\"edge8\" class=\"edge\">\n<title>140581492048944-&gt;140581492049760</title>\n<path fill=\"none\" stroke=\"black\" d=\"M436.88,-260.8C451.94,-248.13 472.61,-230.73 489.24,-216.74\"/>\n<polygon fill=\"black\" stroke=\"black\" points=\"491.64,-219.29 497.04,-210.18 487.13,-213.94 491.64,-219.29\"/>\n<text text-anchor=\"middle\" x=\"487.95\" y=\"-231.8\" font-family=\"Times,serif\" font-size=\"14.00\">False</text>\n</g>\n<!-- 140581492049184 -->\n<g id=\"node3\" class=\"node\">\n<title>140581492049184</title>\n<path fill=\"lightblue\" stroke=\"lightblue\" d=\"M198.45,-123C198.45,-123 122.45,-123 122.45,-123 116.45,-123 110.45,-117 110.45,-111 110.45,-111 110.45,-99 110.45,-99 110.45,-93 116.45,-87 122.45,-87 122.45,-87 198.45,-87 198.45,-87 204.45,-87 210.45,-93 210.45,-99 210.45,-99 210.45,-111 210.45,-111 210.45,-117 204.45,-123 198.45,-123\"/>\n<text text-anchor=\"middle\" x=\"160.45\" y=\"-101.3\" font-family=\"Times,serif\" font-size=\"14.00\">Humidity &lt;= 0</text>\n</g>\n<!-- 140581492048992&#45;&gt;140581492049184 -->\n<g id=\"edge2\" class=\"edge\">\n<title>140581492048992-&gt;140581492049184</title>\n<path fill=\"none\" stroke=\"black\" d=\"M319.97,-173.8C288.15,-160.27 243.69,-141.38 209.78,-126.97\"/>\n<polygon fill=\"black\" stroke=\"black\" points=\"211.09,-123.72 200.52,-123.03 208.35,-130.16 211.09,-123.72\"/>\n<text text-anchor=\"middle\" x=\"285.45\" y=\"-144.8\" font-family=\"Times,serif\" font-size=\"14.00\">True</text>\n</g>\n<!-- 140581492049424 -->\n<g id=\"node6\" class=\"node\">\n<title>140581492049424</title>\n<path fill=\"lightblue\" stroke=\"lightblue\" d=\"M394.45,-123C394.45,-123 326.45,-123 326.45,-123 320.45,-123 314.45,-117 314.45,-111 314.45,-111 314.45,-99 314.45,-99 314.45,-93 320.45,-87 326.45,-87 326.45,-87 394.45,-87 394.45,-87 400.45,-87 406.45,-93 406.45,-99 406.45,-99 406.45,-111 406.45,-111 406.45,-117 400.45,-123 394.45,-123\"/>\n<text text-anchor=\"middle\" x=\"360.45\" y=\"-101.3\" font-family=\"Times,serif\" font-size=\"14.00\">Weather &lt;= 1</text>\n</g>\n<!-- 140581492048992&#45;&gt;140581492049424 -->\n<g id=\"edge5\" class=\"edge\">\n<title>140581492048992-&gt;140581492049424</title>\n<path fill=\"none\" stroke=\"black\" d=\"M360.45,-173.8C360.45,-162.16 360.45,-146.55 360.45,-133.24\"/>\n<polygon fill=\"black\" stroke=\"black\" points=\"363.95,-133.18 360.45,-123.18 356.95,-133.18 363.95,-133.18\"/>\n<text text-anchor=\"middle\" x=\"374.95\" y=\"-144.8\" font-family=\"Times,serif\" font-size=\"14.00\">False</text>\n</g>\n<!-- 140581492048368 -->\n<g id=\"node4\" class=\"node\">\n<title>140581492048368</title>\n<ellipse fill=\"lightgrey\" stroke=\"lightgrey\" cx=\"47.45\" cy=\"-18\" rx=\"47.39\" ry=\"18\"/>\n<text text-anchor=\"middle\" x=\"47.45\" y=\"-14.3\" font-family=\"Times,serif\" font-size=\"14.00\">Class: Yes</text>\n</g>\n<!-- 140581492049184&#45;&gt;140581492048368 -->\n<g id=\"edge3\" class=\"edge\">\n<title>140581492049184-&gt;140581492048368</title>\n<path fill=\"none\" stroke=\"black\" d=\"M137.58,-86.8C119.83,-73.45 95.11,-54.85 76.05,-40.52\"/>\n<polygon fill=\"black\" stroke=\"black\" points=\"78.09,-37.67 68,-34.46 73.89,-43.27 78.09,-37.67\"/>\n<text text-anchor=\"middle\" x=\"124.45\" y=\"-57.8\" font-family=\"Times,serif\" font-size=\"14.00\">True</text>\n</g>\n<!-- 140581492049280 -->\n<g id=\"node5\" class=\"node\">\n<title>140581492049280</title>\n<ellipse fill=\"lightgrey\" stroke=\"lightgrey\" cx=\"160.45\" cy=\"-18\" rx=\"47.39\" ry=\"18\"/>\n<text text-anchor=\"middle\" x=\"160.45\" y=\"-14.3\" font-family=\"Times,serif\" font-size=\"14.00\">Class: Yes</text>\n</g>\n<!-- 140581492049184&#45;&gt;140581492049280 -->\n<g id=\"edge4\" class=\"edge\">\n<title>140581492049184-&gt;140581492049280</title>\n<path fill=\"none\" stroke=\"black\" d=\"M160.45,-86.8C160.45,-75.16 160.45,-59.55 160.45,-46.24\"/>\n<polygon fill=\"black\" stroke=\"black\" points=\"163.95,-46.18 160.45,-36.18 156.95,-46.18 163.95,-46.18\"/>\n<text text-anchor=\"middle\" x=\"174.95\" y=\"-57.8\" font-family=\"Times,serif\" font-size=\"14.00\">False</text>\n</g>\n<!-- 140581492049472 -->\n<g id=\"node7\" class=\"node\">\n<title>140581492049472</title>\n<ellipse fill=\"lightgrey\" stroke=\"lightgrey\" cx=\"271.45\" cy=\"-18\" rx=\"45.49\" ry=\"18\"/>\n<text text-anchor=\"middle\" x=\"271.45\" y=\"-14.3\" font-family=\"Times,serif\" font-size=\"14.00\">Class: No</text>\n</g>\n<!-- 140581492049424&#45;&gt;140581492049472 -->\n<g id=\"edge6\" class=\"edge\">\n<title>140581492049424-&gt;140581492049472</title>\n<path fill=\"none\" stroke=\"black\" d=\"M342.44,-86.8C328.94,-73.91 310.33,-56.14 295.56,-42.03\"/>\n<polygon fill=\"black\" stroke=\"black\" points=\"297.87,-39.4 288.23,-35.03 293.04,-44.46 297.87,-39.4\"/>\n<text text-anchor=\"middle\" x=\"334.45\" y=\"-57.8\" font-family=\"Times,serif\" font-size=\"14.00\">True</text>\n</g>\n<!-- 140581492049568 -->\n<g id=\"node8\" class=\"node\">\n<title>140581492049568</title>\n<ellipse fill=\"lightgrey\" stroke=\"lightgrey\" cx=\"382.45\" cy=\"-18\" rx=\"47.39\" ry=\"18\"/>\n<text text-anchor=\"middle\" x=\"382.45\" y=\"-14.3\" font-family=\"Times,serif\" font-size=\"14.00\">Class: Yes</text>\n</g>\n<!-- 140581492049424&#45;&gt;140581492049568 -->\n<g id=\"edge7\" class=\"edge\">\n<title>140581492049424-&gt;140581492049568</title>\n<path fill=\"none\" stroke=\"black\" d=\"M364.9,-86.8C367.91,-75.16 371.95,-59.55 375.4,-46.24\"/>\n<polygon fill=\"black\" stroke=\"black\" points=\"378.88,-46.73 378,-36.18 372.11,-44.98 378.88,-46.73\"/>\n<text text-anchor=\"middle\" x=\"387.95\" y=\"-57.8\" font-family=\"Times,serif\" font-size=\"14.00\">False</text>\n</g>\n<!-- 140581492049856 -->\n<g id=\"node10\" class=\"node\">\n<title>140581492049856</title>\n<path fill=\"lightblue\" stroke=\"lightblue\" d=\"M555.45,-123C555.45,-123 479.45,-123 479.45,-123 473.45,-123 467.45,-117 467.45,-111 467.45,-111 467.45,-99 467.45,-99 467.45,-93 473.45,-87 479.45,-87 479.45,-87 555.45,-87 555.45,-87 561.45,-87 567.45,-93 567.45,-99 567.45,-99 567.45,-111 567.45,-111 567.45,-117 561.45,-123 555.45,-123\"/>\n<text text-anchor=\"middle\" x=\"517.45\" y=\"-101.3\" font-family=\"Times,serif\" font-size=\"14.00\">Humidity &lt;= 0</text>\n</g>\n<!-- 140581492049760&#45;&gt;140581492049856 -->\n<g id=\"edge9\" class=\"edge\">\n<title>140581492049760-&gt;140581492049856</title>\n<path fill=\"none\" stroke=\"black\" d=\"M517.45,-173.8C517.45,-162.16 517.45,-146.55 517.45,-133.24\"/>\n<polygon fill=\"black\" stroke=\"black\" points=\"520.95,-133.18 517.45,-123.18 513.95,-133.18 520.95,-133.18\"/>\n<text text-anchor=\"middle\" x=\"530.45\" y=\"-144.8\" font-family=\"Times,serif\" font-size=\"14.00\">True</text>\n</g>\n<!-- 140581492050096 -->\n<g id=\"node13\" class=\"node\">\n<title>140581492050096</title>\n<path fill=\"lightblue\" stroke=\"lightblue\" d=\"M749.45,-123C749.45,-123 681.45,-123 681.45,-123 675.45,-123 669.45,-117 669.45,-111 669.45,-111 669.45,-99 669.45,-99 669.45,-93 675.45,-87 681.45,-87 681.45,-87 749.45,-87 749.45,-87 755.45,-87 761.45,-93 761.45,-99 761.45,-99 761.45,-111 761.45,-111 761.45,-117 755.45,-123 749.45,-123\"/>\n<text text-anchor=\"middle\" x=\"715.45\" y=\"-101.3\" font-family=\"Times,serif\" font-size=\"14.00\">Weather &lt;= 1</text>\n</g>\n<!-- 140581492049760&#45;&gt;140581492050096 -->\n<g id=\"edge12\" class=\"edge\">\n<title>140581492049760-&gt;140581492050096</title>\n<path fill=\"none\" stroke=\"black\" d=\"M557.51,-173.8C588.88,-160.33 632.66,-141.54 666.17,-127.15\"/>\n<polygon fill=\"black\" stroke=\"black\" points=\"667.97,-130.19 675.78,-123.03 665.21,-123.76 667.97,-130.19\"/>\n<text text-anchor=\"middle\" x=\"642.95\" y=\"-144.8\" font-family=\"Times,serif\" font-size=\"14.00\">False</text>\n</g>\n<!-- 140581492049808 -->\n<g id=\"node11\" class=\"node\">\n<title>140581492049808</title>\n<ellipse fill=\"lightgrey\" stroke=\"lightgrey\" cx=\"495.45\" cy=\"-18\" rx=\"47.39\" ry=\"18\"/>\n<text text-anchor=\"middle\" x=\"495.45\" y=\"-14.3\" font-family=\"Times,serif\" font-size=\"14.00\">Class: Yes</text>\n</g>\n<!-- 140581492049856&#45;&gt;140581492049808 -->\n<g id=\"edge10\" class=\"edge\">\n<title>140581492049856-&gt;140581492049808</title>\n<path fill=\"none\" stroke=\"black\" d=\"M512.99,-86.8C509.98,-75.16 505.94,-59.55 502.5,-46.24\"/>\n<polygon fill=\"black\" stroke=\"black\" points=\"505.79,-44.98 499.89,-36.18 499.01,-46.73 505.79,-44.98\"/>\n<text text-anchor=\"middle\" x=\"521.45\" y=\"-57.8\" font-family=\"Times,serif\" font-size=\"14.00\">True</text>\n</g>\n<!-- 140581492049952 -->\n<g id=\"node12\" class=\"node\">\n<title>140581492049952</title>\n<ellipse fill=\"lightgrey\" stroke=\"lightgrey\" cx=\"606.45\" cy=\"-18\" rx=\"45.49\" ry=\"18\"/>\n<text text-anchor=\"middle\" x=\"606.45\" y=\"-14.3\" font-family=\"Times,serif\" font-size=\"14.00\">Class: No</text>\n</g>\n<!-- 140581492049856&#45;&gt;140581492049952 -->\n<g id=\"edge11\" class=\"edge\">\n<title>140581492049856-&gt;140581492049952</title>\n<path fill=\"none\" stroke=\"black\" d=\"M535.46,-86.8C548.95,-73.91 567.56,-56.14 582.33,-42.03\"/>\n<polygon fill=\"black\" stroke=\"black\" points=\"584.85,-44.46 589.67,-35.03 580.02,-39.4 584.85,-44.46\"/>\n<text text-anchor=\"middle\" x=\"581.95\" y=\"-57.8\" font-family=\"Times,serif\" font-size=\"14.00\">False</text>\n</g>\n<!-- 140581492050144 -->\n<g id=\"node14\" class=\"node\">\n<title>140581492050144</title>\n<ellipse fill=\"lightgrey\" stroke=\"lightgrey\" cx=\"715.45\" cy=\"-18\" rx=\"45.49\" ry=\"18\"/>\n<text text-anchor=\"middle\" x=\"715.45\" y=\"-14.3\" font-family=\"Times,serif\" font-size=\"14.00\">Class: No</text>\n</g>\n<!-- 140581492050096&#45;&gt;140581492050144 -->\n<g id=\"edge13\" class=\"edge\">\n<title>140581492050096-&gt;140581492050144</title>\n<path fill=\"none\" stroke=\"black\" d=\"M715.45,-86.8C715.45,-75.16 715.45,-59.55 715.45,-46.24\"/>\n<polygon fill=\"black\" stroke=\"black\" points=\"718.95,-46.18 715.45,-36.18 711.95,-46.18 718.95,-46.18\"/>\n<text text-anchor=\"middle\" x=\"728.45\" y=\"-57.8\" font-family=\"Times,serif\" font-size=\"14.00\">True</text>\n</g>\n<!-- 140581492050240 -->\n<g id=\"node15\" class=\"node\">\n<title>140581492050240</title>\n<ellipse fill=\"lightgrey\" stroke=\"lightgrey\" cx=\"824.45\" cy=\"-18\" rx=\"45.49\" ry=\"18\"/>\n<text text-anchor=\"middle\" x=\"824.45\" y=\"-14.3\" font-family=\"Times,serif\" font-size=\"14.00\">Class: No</text>\n</g>\n<!-- 140581492050096&#45;&gt;140581492050240 -->\n<g id=\"edge14\" class=\"edge\">\n<title>140581492050096-&gt;140581492050240</title>\n<path fill=\"none\" stroke=\"black\" d=\"M737.5,-86.8C754.55,-73.51 778.25,-55.02 796.61,-40.71\"/>\n<polygon fill=\"black\" stroke=\"black\" points=\"798.89,-43.37 804.62,-34.46 794.58,-37.85 798.89,-43.37\"/>\n<text text-anchor=\"middle\" x=\"790.95\" y=\"-57.8\" font-family=\"Times,serif\" font-size=\"14.00\">False</text>\n</g>\n</g>\n</svg>"
          },
          "metadata": {}
        }
      ]
    },
    {
      "cell_type": "code",
      "source": [],
      "metadata": {
        "id": "pqYWMH9tyMz3"
      },
      "execution_count": null,
      "outputs": []
    }
  ]
}