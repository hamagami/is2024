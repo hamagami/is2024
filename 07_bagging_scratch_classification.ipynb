{
  "nbformat": 4,
  "nbformat_minor": 0,
  "metadata": {
    "colab": {
      "provenance": [],
      "authorship_tag": "ABX9TyNpsqKPMRJ2D5KTa/6xJ6rK",
      "include_colab_link": true
    },
    "kernelspec": {
      "name": "python3",
      "display_name": "Python 3"
    },
    "language_info": {
      "name": "python"
    }
  },
  "cells": [
    {
      "cell_type": "markdown",
      "metadata": {
        "id": "view-in-github",
        "colab_type": "text"
      },
      "source": [
        "<a href=\"https://colab.research.google.com/github/hamagami/is2024/blob/main/07_bagging_scratch_classification.ipynb\" target=\"_parent\"><img src=\"https://colab.research.google.com/assets/colab-badge.svg\" alt=\"Open In Colab\"/></a>"
      ]
    },
    {
      "cell_type": "markdown",
      "source": [
        "# Bagging scratch classification"
      ],
      "metadata": {
        "id": "ybAoPSuYbG6Y"
      }
    },
    {
      "cell_type": "code",
      "source": [
        "import numpy as np\n",
        "from sklearn.tree import DecisionTreeClassifier\n",
        "from sklearn.datasets import make_classification\n",
        "from sklearn.model_selection import train_test_split\n",
        "from sklearn.metrics import accuracy_score"
      ],
      "metadata": {
        "id": "gXYq1wS9a-ig"
      },
      "execution_count": 2,
      "outputs": []
    },
    {
      "cell_type": "code",
      "source": [
        "# Generate dataset\n",
        "X, y = make_classification(\n",
        "    n_samples=1000,\n",
        "    n_features=20,\n",
        "    n_informative=15,\n",
        "    n_redundant=5,\n",
        "    random_state=42\n",
        ")\n",
        "\n",
        "# Split data into training and testing sets\n",
        "X_train, X_test, y_train, y_test = train_test_split(X, y, test_size=0.3, random_state=42)"
      ],
      "metadata": {
        "id": "hxTnaSUBbOPP"
      },
      "execution_count": 3,
      "outputs": []
    },
    {
      "cell_type": "code",
      "execution_count": 4,
      "metadata": {
        "id": "lKIDUvDqaqzn"
      },
      "outputs": [],
      "source": [
        "# Scratch implementation of Bagging Classifier\n",
        "class ScratchBaggingClassifier:\n",
        "    def __init__(self, base_estimator, n_estimators=10, random_state=None):\n",
        "        self.base_estimator = base_estimator\n",
        "        self.n_estimators = n_estimators\n",
        "        self.models = []\n",
        "        self.random_state = random_state\n",
        "        if random_state is not None:\n",
        "            np.random.seed(random_state)\n",
        "\n",
        "    def fit(self, X, y):\n",
        "        self.models = []\n",
        "        n_samples = X.shape[0]\n",
        "        for i in range(self.n_estimators):\n",
        "            # Bootstrap sampling\n",
        "            indices = np.random.choice(n_samples, n_samples, replace=True)\n",
        "            X_sample, y_sample = X[indices], y[indices]\n",
        "            model = self.base_estimator()  # Instantiate the base model\n",
        "            model.fit(X_sample, y_sample)\n",
        "            self.models.append(model)\n",
        "\n",
        "    def predict(self, X):\n",
        "        # Aggregate predictions from all models using majority voting\n",
        "        predictions = np.array([model.predict(X) for model in self.models])\n",
        "        majority_vote = np.apply_along_axis(\n",
        "            lambda x: np.bincount(x).argmax(), axis=0, arr=predictions\n",
        "        )\n",
        "        return majority_vote\n"
      ]
    },
    {
      "cell_type": "code",
      "source": [
        "\n",
        "# Evaluate accuracy with a single decision tree\n",
        "dt = DecisionTreeClassifier(random_state=42)\n",
        "dt.fit(X_train, y_train)\n",
        "y_pred_dt = dt.predict(X_test)\n",
        "accuracy_dt = accuracy_score(y_test, y_pred_dt)\n",
        "\n",
        "# Evaluate accuracy with scratch implementation of Bagging\n",
        "scratch_bagging = ScratchBaggingClassifier(\n",
        "    base_estimator=DecisionTreeClassifier, n_estimators=50, random_state=42\n",
        ")\n",
        "scratch_bagging.fit(X_train, y_train)\n",
        "y_pred_bagging = scratch_bagging.predict(X_test)\n",
        "accuracy_bagging = accuracy_score(y_test, y_pred_bagging)\n",
        "\n",
        "# Display results\n",
        "print(\"Accuracy with single decision tree:\", accuracy_dt)\n",
        "print(\"Accuracy with scratch implementation of Bagging:\", accuracy_bagging)\n",
        "\n"
      ],
      "metadata": {
        "colab": {
          "base_uri": "https://localhost:8080/"
        },
        "id": "3vOd6j8gbC8r",
        "outputId": "19c635be-cd3b-488c-b799-75402f42a72a"
      },
      "execution_count": 7,
      "outputs": [
        {
          "output_type": "stream",
          "name": "stdout",
          "text": [
            "Accuracy with single decision tree: 0.7966666666666666\n",
            "Accuracy with scratch implementation of Bagging: 0.8833333333333333\n"
          ]
        }
      ]
    },
    {
      "cell_type": "code",
      "source": [],
      "metadata": {
        "id": "tq3ATy3WbXr6"
      },
      "execution_count": null,
      "outputs": []
    }
  ]
}