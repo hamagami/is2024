{
  "nbformat": 4,
  "nbformat_minor": 0,
  "metadata": {
    "colab": {
      "provenance": [],
      "authorship_tag": "ABX9TyMs31RVYSbKnM2fRVQvOK+r",
      "include_colab_link": true
    },
    "kernelspec": {
      "name": "python3",
      "display_name": "Python 3"
    },
    "language_info": {
      "name": "python"
    }
  },
  "cells": [
    {
      "cell_type": "markdown",
      "metadata": {
        "id": "view-in-github",
        "colab_type": "text"
      },
      "source": [
        "<a href=\"https://colab.research.google.com/github/hamagami/is2024/blob/main/report2.ipynb\" target=\"_parent\"><img src=\"https://colab.research.google.com/assets/colab-badge.svg\" alt=\"Open In Colab\"/></a>"
      ]
    },
    {
      "cell_type": "markdown",
      "source": [
        "# IRIS data clustering"
      ],
      "metadata": {
        "id": "KcgnLfPuzfSv"
      }
    },
    {
      "cell_type": "code",
      "source": [
        "# Import necessary libraries\n",
        "import numpy as np\n",
        "import pandas as pd\n",
        "import matplotlib.pyplot as plt\n",
        "\n",
        "#The following assumes the use of the sklearn package for execution.\n",
        "#If possible, implementing this from scratch without relying on these libraries would be a great learning experience, but it is not mandatory.\n",
        "\n",
        "from sklearn.cluster import KMeans    # Import KMeans from scikit-learn\n",
        "from sklearn.decomposition import PCA  # Import PCA from scikit-learn\n",
        "from sklearn.datasets import load_iris  # Import the Iris dataset from scikit-learn"
      ],
      "metadata": {
        "id": "pDJEeXAt1Fxf"
      },
      "execution_count": 4,
      "outputs": []
    },
    {
      "cell_type": "code",
      "source": [
        "# Load the Iris dataset\n",
        "# Please use the following part as is. The results will be in a pandas DataFrame.\n",
        "\n",
        "iris = load_iris()\n",
        "data = iris.data\n",
        "target = iris.target\n",
        "feature_names = iris.feature_names"
      ],
      "metadata": {
        "id": "rzo0T2gR1YLP"
      },
      "execution_count": 5,
      "outputs": []
    },
    {
      "cell_type": "code",
      "source": [
        "# Checking the data. It is just being printed.\n",
        "data,target,feature_names"
      ],
      "metadata": {
        "id": "PjU_Ls7T2IOi"
      },
      "execution_count": null,
      "outputs": []
    },
    {
      "cell_type": "markdown",
      "source": [
        "1.\tPerform k-means clustering on the 4-dimensional Iris data with k values of 5, 4, 3, and 2. Plot the results, showing k on the x-axis and the average distance to the centroid in each cluster at convergence on the y-axis (drawing elbow curve)."
      ],
      "metadata": {
        "id": "diHr4Ry928CF"
      }
    },
    {
      "cell_type": "code",
      "source": [
        "#----"
      ],
      "metadata": {
        "id": "YUy0TJSX3LWq"
      },
      "execution_count": null,
      "outputs": []
    },
    {
      "cell_type": "markdown",
      "source": [
        "2.\tCompress the 4-dimensional data to 2 dimensions using Principal Component Analysis (PCA). PCA is not covered in the lecture, but it is a straightforward technique, and you are encouraged to explore it independently. For reference, visit: https://scikit-learn.org/stable/auto_examples/decomposition/plot_pca_iris.html"
      ],
      "metadata": {
        "id": "p2fsuL243Mmo"
      }
    },
    {
      "cell_type": "code",
      "source": [
        "#----"
      ],
      "metadata": {
        "id": "RUtyfKBM3PwS"
      },
      "execution_count": null,
      "outputs": []
    },
    {
      "cell_type": "markdown",
      "source": [
        "3.\tApply the same k-means clustering process as in step 1 to the data compressed into two dimensions using PCA. Plot the results on a two-dimensional plane and discuss the distribution and each cluster of the Iris classes."
      ],
      "metadata": {
        "id": "lEWnAvvY3XH4"
      }
    },
    {
      "cell_type": "code",
      "source": [
        "#----"
      ],
      "metadata": {
        "id": "p0RdKrSe3cg4"
      },
      "execution_count": 16,
      "outputs": []
    },
    {
      "cell_type": "code",
      "source": [],
      "metadata": {
        "id": "KijEYur13dpd"
      },
      "execution_count": null,
      "outputs": []
    }
  ]
}