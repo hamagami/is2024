{
  "nbformat": 4,
  "nbformat_minor": 0,
  "metadata": {
    "colab": {
      "provenance": [],
      "authorship_tag": "ABX9TyNz/N85j8uaVE8XJV/Hvbvu",
      "include_colab_link": true
    },
    "kernelspec": {
      "name": "python3",
      "display_name": "Python 3"
    },
    "language_info": {
      "name": "python"
    }
  },
  "cells": [
    {
      "cell_type": "markdown",
      "metadata": {
        "id": "view-in-github",
        "colab_type": "text"
      },
      "source": [
        "<a href=\"https://colab.research.google.com/github/hamagami/is2024/blob/main/07_adaboost_scratch_classification.ipynb\" target=\"_parent\"><img src=\"https://colab.research.google.com/assets/colab-badge.svg\" alt=\"Open In Colab\"/></a>"
      ]
    },
    {
      "cell_type": "markdown",
      "source": [
        "# Adaboost scratch classification"
      ],
      "metadata": {
        "id": "UPS-kK9wg5Dq"
      }
    },
    {
      "cell_type": "code",
      "source": [
        "import numpy as np\n",
        "from sklearn.tree import DecisionTreeClassifier\n",
        "from sklearn.datasets import make_classification\n",
        "from sklearn.model_selection import train_test_split\n",
        "from sklearn.metrics import accuracy_score\n",
        "import matplotlib.pyplot as plt"
      ],
      "metadata": {
        "id": "XRoseMW0hYlz"
      },
      "execution_count": 2,
      "outputs": []
    },
    {
      "cell_type": "code",
      "source": [
        "# Generate a classification dataset\n",
        "X, y = make_classification(\n",
        "    n_samples=1000,\n",
        "    n_features=20,\n",
        "    n_informative=15,\n",
        "    n_redundant=5,\n",
        "    random_state=42\n",
        ")\n",
        "\n",
        "# Split data into training and testing sets\n",
        "X_train, X_test, y_train, y_test = train_test_split(X, y, test_size=0.3, random_state=42)\n"
      ],
      "metadata": {
        "id": "9uYjUJMKhaZg"
      },
      "execution_count": null,
      "outputs": []
    },
    {
      "cell_type": "code",
      "execution_count": 3,
      "metadata": {
        "id": "NhBEFXe1gxSf"
      },
      "outputs": [],
      "source": [
        "# Scratch implementation of AdaBoost\n",
        "class ScratchAdaBoostClassifier:\n",
        "    def __init__(self, base_estimator, n_estimators=50):\n",
        "        self.base_estimator = base_estimator\n",
        "        self.n_estimators = n_estimators\n",
        "        self.models = []\n",
        "        self.alphas = []\n",
        "\n",
        "    def fit(self, X, y):\n",
        "        n_samples = X.shape[0]\n",
        "        weights = np.ones(n_samples) / n_samples  # Initialize weights\n",
        "        self.models = []\n",
        "        self.alphas = []\n",
        "\n",
        "        for _ in range(self.n_estimators):\n",
        "            model = self.base_estimator()\n",
        "            model.fit(X, y, sample_weight=weights)  # Fit with weighted data\n",
        "            y_pred = model.predict(X)\n",
        "\n",
        "            # Compute error rate\n",
        "            err = np.sum(weights * (y_pred != y)) / np.sum(weights)\n",
        "\n",
        "            # Stop if error is 0\n",
        "            if err == 0:\n",
        "                self.models.append(model)\n",
        "                self.alphas.append(1)  # Large weight for perfect classifier\n",
        "                break\n",
        "\n",
        "            # Compute model weight (alpha)\n",
        "            alpha = 0.5 * np.log((1 - err) / max(err, 1e-10))\n",
        "            self.models.append(model)\n",
        "            self.alphas.append(alpha)\n",
        "\n",
        "            # Update weights\n",
        "            weights *= np.exp(-alpha * y * y_pred)\n",
        "            weights /= np.sum(weights)  # Normalize\n",
        "\n",
        "    def predict(self, X):\n",
        "        # Aggregate predictions using weighted majority voting\n",
        "        pred = np.zeros(X.shape[0])\n",
        "        for model, alpha in zip(self.models, self.alphas):\n",
        "            pred += alpha * model.predict(X)\n",
        "        return np.sign(pred)\n",
        "\n",
        "\n"
      ]
    },
    {
      "cell_type": "code",
      "source": [
        "# Train Scratch AdaBoost\n",
        "adaboost_scratch = ScratchAdaBoostClassifier(base_estimator=lambda: DecisionTreeClassifier(max_depth=1), n_estimators=50)\n",
        "adaboost_scratch.fit(X_train, y_train)\n",
        "y_pred_adaboost = adaboost_scratch.predict(X_test)\n",
        "\n",
        "# Train a single Decision Tree Classifier for comparison\n",
        "dt = DecisionTreeClassifier(random_state=42, max_depth=1)\n",
        "dt.fit(X_train, y_train)\n",
        "y_pred_dt = dt.predict(X_test)\n",
        "\n",
        "# Evaluate performance\n",
        "accuracy_dt = accuracy_score(y_test, y_pred_dt)\n",
        "accuracy_adaboost = accuracy_score(y_test, y_pred_adaboost)\n",
        "\n",
        "# Compare accuracy\n",
        "print(f\"Accuracy (Decision Tree): {accuracy_dt:.4f}\")\n",
        "print(f\"Accuracy (Scratch AdaBoost): {accuracy_adaboost:.4f}\")\n",
        "\n",
        "# Plot comparison of Decision Tree and AdaBoost predictions\n",
        "fig, ax = plt.subplots(1, 1, figsize=(6, 4))\n",
        "models = ['Decision Tree', 'Scratch AdaBoost']\n",
        "accuracies = [accuracy_dt, accuracy_adaboost]\n",
        "ax.bar(models, accuracies, color=['orange', 'green'], alpha=0.7)\n",
        "ax.set_title(\"Accuracy Comparison\")\n",
        "ax.set_ylabel(\"Accuracy\")\n",
        "plt.show()"
      ],
      "metadata": {
        "colab": {
          "base_uri": "https://localhost:8080/",
          "height": 427
        },
        "id": "vHTr-N5ahgcO",
        "outputId": "637b843f-7bcc-4350-f4c0-74b53683ddb6"
      },
      "execution_count": 4,
      "outputs": [
        {
          "output_type": "stream",
          "name": "stdout",
          "text": [
            "Accuracy (Decision Tree): 0.6800\n",
            "Accuracy (Scratch AdaBoost): 0.5800\n"
          ]
        },
        {
          "output_type": "display_data",
          "data": {
            "text/plain": [
              "<Figure size 600x400 with 1 Axes>"
            ],
            "image/png": "[encoded data removed]"
          },
          "metadata": {}
        }
      ]
    },
    {
      "cell_type": "code",
      "source": [],
      "metadata": {
        "id": "G79jLGN1hd9x"
      },
      "execution_count": null,
      "outputs": []
    },
    {
      "cell_type": "code",
      "source": [],
      "metadata": {
        "id": "lcfwUFHkhDGJ"
      },
      "execution_count": null,
      "outputs": []
    }
  ]
}