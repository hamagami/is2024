{
  "nbformat": 4,
  "nbformat_minor": 0,
  "metadata": {
    "colab": {
      "provenance": [],
      "authorship_tag": "ABX9TyPyc7qgbVHSXOPOxSR0ryTI",
      "include_colab_link": true
    },
    "kernelspec": {
      "name": "python3",
      "display_name": "Python 3"
    },
    "language_info": {
      "name": "python"
    }
  },
  "cells": [
    {
      "cell_type": "markdown",
      "metadata": {
        "id": "view-in-github",
        "colab_type": "text"
      },
      "source": [
        "<a href=\"https://colab.research.google.com/github/hamagami/is2024/blob/main/is02_quiz.ipynb\" target=\"_parent\"><img src=\"https://colab.research.google.com/assets/colab-badge.svg\" alt=\"Open In Colab\"/></a>"
      ]
    },
    {
      "cell_type": "markdown",
      "source": [
        "# 20241015 quiz"
      ],
      "metadata": {
        "id": "86JNaxo3jk5-"
      }
    },
    {
      "cell_type": "code",
      "execution_count": 12,
      "metadata": {
        "id": "60nxKeKkXLlm"
      },
      "outputs": [],
      "source": [
        "import pandas as pd\n",
        "import numpy as np\n",
        "import matplotlib.pyplot as plt"
      ]
    },
    {
      "cell_type": "code",
      "source": [
        "\n",
        "# Create the dataset with x and y values\n",
        "X = np.array([11.0, 12.5, 15.2, 17.2, 19.0, 20.8, 22.0, 24.2, 25.3, 27.0, 29.0])\n",
        "y = np.array([187, 225, 305, 318, 367, 365, 400, 435, 450, 506, 558])\n"
      ],
      "metadata": {
        "id": "lQE78YkoXRbP"
      },
      "execution_count": 13,
      "outputs": []
    },
    {
      "cell_type": "code",
      "source": [],
      "metadata": {
        "id": "pSzSqegMY8a3"
      },
      "execution_count": null,
      "outputs": []
    }
  ]
}